{
  "cells": [
    {
      "cell_type": "markdown",
      "metadata": {
        "id": "view-in-github",
        "colab_type": "text"
      },
      "source": [
        "<a href=\"https://colab.research.google.com/github/Natalia409634/Machine-Learning/blob/main/T2_decisionTreesHyperparameters.ipynb\" target=\"_parent\"><img src=\"https://colab.research.google.com/assets/colab-badge.svg\" alt=\"Open In Colab\"/></a>"
      ]
    },
    {
      "cell_type": "markdown",
      "metadata": {
        "id": "MPjgtz3IMDqX"
      },
      "source": [
        "Estructura de la sesión:\n",
        "- Ajuste de hiperparámetros en los árboles de decisión\n",
        "- Combinar el ajuste de hiperparámetros y la evaluación de modelos\n",
        "  - GridSearch\n",
        "  - RandomSearch\n",
        "  - Modificación de hiperparámetros\n",
        "- Árboles de regresión\n"
      ]
    },
    {
      "cell_type": "markdown",
      "metadata": {
        "id": "RjO0ZHCkZp30"
      },
      "source": [
        "# HIPERPARÁMETROS DE LOS ÁRBOLES DE DECISIÓN. AJUSTE DE ÁRBOLES DE DECISIÓN"
      ]
    },
    {
      "cell_type": "markdown",
      "metadata": {
        "id": "k_5O3DQkZp31"
      },
      "source": [
        "- **max_depth : int or None, opcional (por defecto=None)**\n",
        "    La profundidad máxima del árbol. Si es None, los nodos se expanden hasta que todas las hojas sean puras o hasta que todas las hojas contengan menos muestras que min_samples_split. Se ignora si max_leaf_nodes no es None.\n",
        "    \n",
        "- **min_samples_split : int, opcional (por defecto=2)**\n",
        "    El número mínimo de muestras necesarias para dividir un nodo interno.\n",
        "\n",
        "- Hay más parámetros: \n",
        "  - https://scikit-learn.org/stable/modules/generated/sklearn.tree.DecisionTreeRegressor.html\n",
        "  - https://scikit-learn.org/stable/modules/generated/sklearn.tree.DecisionTreeClassifier.html\n",
        "\n"
      ]
    },
    {
      "cell_type": "markdown",
      "metadata": {
        "id": "5tfYm7QAZp32"
      },
      "source": [
        "Primero, se cargan los datos, las entradas van a X, las salidas a y."
      ]
    },
    {
      "cell_type": "markdown",
      "source": [],
      "metadata": {
        "id": "45SohBeMqqsa"
      }
    },
    {
      "cell_type": "code",
      "execution_count": null,
      "metadata": {
        "id": "sJD421uMZp33"
      },
      "outputs": [],
      "source": [
        "%matplotlib inline\n",
        "import matplotlib.pyplot as plt\n",
        "import numpy as np\n",
        "from sklearn.datasets import load_boston\n",
        "from scipy.stats import sem\n",
        "\n",
        "boston = load_boston()\n",
        "X = boston.data\n",
        "y = boston.target"
      ]
    },
    {
      "cell_type": "markdown",
      "metadata": {
        "id": "XQOtMG7hZp35"
      },
      "source": [
        "## COMBINAR EL AJUSTE DE HIPERPARÁMETROS Y LA EVALUACIÓN DE MODELOS"
      ]
    },
    {
      "cell_type": "markdown",
      "metadata": {
        "id": "2Ry14avEZp36"
      },
      "source": [
        "La combinación de evaluación de modelos y ajuste de hiperparámetros puede entenderse como un bucle externo (outer) que entrena un modelo y prueba el modelo, y un bucle interno (inner), donde el proceso de entrenamiento consiste en buscar los mejores hiperparámetros, y luego obtener el modelo con esos mejores hiperparámetros.\n",
        "\n",
        "En primer lugar, vamos a utilizar **Holdout** (entrenar/probar) para la evaluación del modelo (bucle externo o **outer**), y **3-fold crossvalidation** para el ajuste de los hiperparámetros (bucle interno o **inner**). Los hiperparámetros se ajustarán con **Gridsearch**."
      ]
    },
    {
      "cell_type": "markdown",
      "metadata": {
        "id": "GQQaJrViZp37"
      },
      "source": [
        "#### GRIDSEARCH"
      ]
    },
    {
      "cell_type": "markdown",
      "metadata": {
        "id": "7rqhsc9OARd3"
      },
      "source": [
        "En primer lugar, definamos nuestra función python para el RMSE"
      ]
    },
    {
      "cell_type": "code",
      "execution_count": null,
      "metadata": {
        "id": "TM7SzJLHAQhZ"
      },
      "outputs": [],
      "source": [
        "def rmse(y_test, y_test_pred):\n",
        "  \"\"\" This is my computation of Root Mean Squared Error \"\"\"\n",
        "  return np.sqrt(metrics.mean_squared_error(y_test, y_test_pred))"
      ]
    },
    {
      "cell_type": "code",
      "execution_count": null,
      "metadata": {
        "id": "laxLj26PZp37"
      },
      "outputs": [],
      "source": [
        "from sklearn.model_selection import train_test_split\n",
        "\n",
        "# Holdout for model evaluation. 33% of available data for test\n",
        "X_train, X_test, y_train, y_test = train_test_split(X, y,test_size=0.33, random_state=42)"
      ]
    },
    {
      "cell_type": "markdown",
      "metadata": {
        "id": "9-SI_kTr82RI"
      },
      "source": [
        "En primer lugar, recordemos el RMSE con hiperparámetros por defecto"
      ]
    },
    {
      "cell_type": "code",
      "execution_count": null,
      "metadata": {
        "id": "rU6g-6PZ87DS",
        "colab": {
          "base_uri": "https://localhost:8080/"
        },
        "outputId": "4155e113-560b-408a-aec2-2db8096523a4"
      },
      "outputs": [
        {
          "output_type": "stream",
          "name": "stdout",
          "text": [
            "RMSE of tree with default hyper-pars: 4.338022949890013\n"
          ]
        }
      ],
      "source": [
        "from sklearn import metrics\n",
        "from sklearn.tree import DecisionTreeRegressor\n",
        "#primero vemos los rdos con los valores con defecto, que da 4,3\n",
        "regr = DecisionTreeRegressor()\n",
        "np.random.seed(42)\n",
        "regr.fit(X=X_train, y=y_train)\n",
        "print(f\"RMSE of tree with default hyper-pars: {rmse(y_test, regr.predict(X=X_test))}\")\n",
        "#el error no esta mal pero podria ser mucho mejor para este problema."
      ]
    },
    {
      "cell_type": "code",
      "execution_count": null,
      "metadata": {
        "id": "GRknuZjUZp39",
        "colab": {
          "base_uri": "https://localhost:8080/"
        },
        "outputId": "c6418e8d-7062-47c7-91f9-7575d2e82e1c"
      },
      "outputs": [
        {
          "output_type": "stream",
          "name": "stdout",
          "text": [
            "Fitting 3 folds for each of 49 candidates, totalling 147 fits\n"
          ]
        },
        {
          "output_type": "execute_result",
          "data": {
            "text/plain": [
              "GridSearchCV(cv=KFold(n_splits=3, random_state=42, shuffle=True),\n",
              "             estimator=DecisionTreeRegressor(), n_jobs=1,\n",
              "             param_grid={'max_depth': [2, 4, 6, 8, 10, 12, 14],\n",
              "                         'min_samples_split': [2, 4, 6, 8, 10, 12, 14]},\n",
              "             scoring='neg_mean_squared_error', verbose=1)"
            ]
          },
          "metadata": {},
          "execution_count": 6
        }
      ],
      "source": [
        "#para hacer la busqueda de los nuevos parametros: \n",
        "\n",
        "from sklearn.model_selection import GridSearchCV, KFold\n",
        "from sklearn.linear_model import LogisticRegression\n",
        "#from sklearn.model_selection import KFold\n",
        "\n",
        "\n",
        "# Search space\n",
        "\n",
        "param_grid = {'max_depth': list(range(2,16,2)),\n",
        "              'min_samples_split': list(range(2,16,2))}\n",
        "#bucle interno que busca los parametros-> random state es semillla, siempre es el mismo\n",
        "inner = KFold(n_splits=3, shuffle=True, random_state=42)\n",
        "\n",
        "# Definition of a 2-step process that self-adjusts 2 hyperpars\n",
        "#de regresor utilizao un arbol pero podria ser cualquier otro, el cv es el kfols\n",
        "regr = GridSearchCV(DecisionTreeRegressor(), \n",
        "                   param_grid,\n",
        "                   scoring='neg_mean_squared_error',\n",
        "                   cv=inner, \n",
        "                   n_jobs=1, verbose=1)\n",
        "\n",
        "#despues de hacer el modelo hace fit(entrena el modelo)\n",
        "# Train the self-adjusting process\n",
        "np.random.seed(42)\n",
        "regr.fit(X=X_train, y=y_train)\n",
        "\n",
        "# At this point, regr contains the model with the best hyper-parameters found by gridsearch\n",
        "# and trained on the complete X_train"
      ]
    },
    {
      "cell_type": "code",
      "execution_count": null,
      "metadata": {
        "id": "fZokHzT78udT",
        "colab": {
          "base_uri": "https://localhost:8080/"
        },
        "outputId": "43004e87-d549-480d-db09-c18ef859b0cd"
      },
      "outputs": [
        {
          "output_type": "stream",
          "name": "stdout",
          "text": [
            "RMSE of tree with hyper-parameter tuning (grid-search): 3.8009392110743123\n"
          ]
        }
      ],
      "source": [
        "# Now, the performance of regr is computed on the test partition\n",
        "#el error nuevo es de 3,8-> se ha reducido el error por lo que ha mejorado, los mejores parametros son max depth de 14,...\n",
        "print(f\"RMSE of tree with hyper-parameter tuning (grid-search): {rmse(y_test, regr.predict(X=X_test))}\")"
      ]
    },
    {
      "cell_type": "markdown",
      "metadata": {
        "id": "dTTNB93mZp4A"
      },
      "source": [
        "Veamos los mejores hiperparámetros y su puntuación (MSE). Podemos ver que están cerca de los extremos del espacio de parámetros, pero no en el extremo."
      ]
    },
    {
      "cell_type": "code",
      "execution_count": null,
      "metadata": {
        "id": "nVeTEIFaZp4B",
        "colab": {
          "base_uri": "https://localhost:8080/"
        },
        "outputId": "8bf1b090-3116-432e-837e-d46f32ddb75d"
      },
      "outputs": [
        {
          "output_type": "execute_result",
          "data": {
            "text/plain": [
              "({'max_depth': 14, 'min_samples_split': 12}, 23.456921558430547)"
            ]
          },
          "metadata": {},
          "execution_count": 8
        }
      ],
      "source": [
        "regr.best_params_, -regr.best_score_"
      ]
    },
    {
      "cell_type": "markdown",
      "metadata": {
        "id": "Hk6rBqZSZp4I"
      },
      "source": [
        "#### BUSQUEDA ALEATORIA (RANDOMIZED SEARCH)"
      ]
    },
    {
      "cell_type": "markdown",
      "metadata": {
        "id": "w7bZU45-Zp4I"
      },
      "source": [
        "Ahora, utilicemos **Búsqueda aleatoria** en lugar de gridsearch. Sólo se probarán 20 combinaciones de valores de hiperparámetros (budget=20)"
      ]
    },
    {
      "cell_type": "code",
      "execution_count": null,
      "metadata": {
        "id": "urjn49EAZp4J",
        "colab": {
          "base_uri": "https://localhost:8080/"
        },
        "outputId": "fb94888c-e677-455a-c38c-caf27f3ed9a8"
      },
      "outputs": [
        {
          "output_type": "stream",
          "name": "stdout",
          "text": [
            "Fitting 3 folds for each of 20 candidates, totalling 60 fits\n"
          ]
        },
        {
          "output_type": "execute_result",
          "data": {
            "text/plain": [
              "RandomizedSearchCV(cv=KFold(n_splits=3, random_state=42, shuffle=True),\n",
              "                   estimator=DecisionTreeRegressor(), n_iter=20, n_jobs=1,\n",
              "                   param_distributions={'max_depth': [2, 4, 6, 8, 10, 12, 14],\n",
              "                                        'min_samples_split': [2, 4, 6, 8, 10,\n",
              "                                                              12, 14]},\n",
              "                   scoring='neg_mean_squared_error', verbose=1)"
            ]
          },
          "metadata": {},
          "execution_count": 9
        }
      ],
      "source": [
        "#hacemos una busqueda random\n",
        "\n",
        "from sklearn.model_selection import RandomizedSearchCV, KFold\n",
        "from sklearn import metrics\n",
        "\n",
        "\n",
        "# Search space\n",
        "param_grid = {'max_depth': list(range(2,16,2)),\n",
        "              'min_samples_split': list(range(2,16,2))}\n",
        "\n",
        "# Inner evaluation\n",
        "inner = KFold(n_splits=3, shuffle=True, random_state=42)\n",
        "\n",
        "#aqui creamos un budget-> cuantas muestras aleatorias uso en el randomsearch\n",
        "budget = 20\n",
        "regr = RandomizedSearchCV(DecisionTreeRegressor(), \n",
        "                         param_grid,\n",
        "                         scoring='neg_mean_squared_error',\n",
        "                         cv=inner, \n",
        "                         n_jobs=1, verbose=1,\n",
        "                         n_iter=budget\n",
        "                        \n",
        "                  \n",
        "                        )\n",
        "\n",
        "#misma semilla y aprende\n",
        "np.random.seed(42)\n",
        "regr.fit(X=X_train, y=y_train)"
      ]
    },
    {
      "cell_type": "code",
      "source": [],
      "metadata": {
        "id": "spq2UZV57-IL"
      },
      "execution_count": null,
      "outputs": []
    },
    {
      "cell_type": "code",
      "execution_count": null,
      "metadata": {
        "id": "x2JJyJAn-6Ci",
        "colab": {
          "base_uri": "https://localhost:8080/"
        },
        "outputId": "13d7d836-250f-47a7-8bf4-0b895f88ba7a"
      },
      "outputs": [
        {
          "output_type": "stream",
          "name": "stdout",
          "text": [
            "RMSE of tree with hyper-parameter tuning (random search): 3.8879277615339674\n"
          ]
        }
      ],
      "source": [
        "# Now, the performance of regr is computed on the test partition\n",
        "\n",
        "print(f\"RMSE of tree with hyper-parameter tuning (random search): {rmse(y_test, regr.predict(X=X_test))}\")"
      ]
    },
    {
      "cell_type": "code",
      "execution_count": null,
      "metadata": {
        "id": "9OzNtlMYZp4L",
        "colab": {
          "base_uri": "https://localhost:8080/"
        },
        "outputId": "53a0f0c8-4af2-4298-fd46-7cfdd8c70206"
      },
      "outputs": [
        {
          "output_type": "execute_result",
          "data": {
            "text/plain": [
              "({'min_samples_split': 12, 'max_depth': 12}, 23.47266047404506)"
            ]
          },
          "metadata": {},
          "execution_count": 11
        }
      ],
      "source": [
        "regr.best_params_, -regr.best_score_"
      ]
    },
    {
      "cell_type": "markdown",
      "metadata": {
        "id": "Nk1-fYyoZp4N"
      },
      "source": [
        "Para la **Búsqueda Aleatoria**, podemos definir el espacio de búsqueda con distribuciones estadísticas, en lugar de utilizar valores particulares como hacíamos antes. A continuación puedes ver cómo utilizar una distribución uniforme sobre enteros entre 2 y 16 mediante *randint*. Para hiperparámetros continuos podríamos usar distribuciones continuas como *uniform* o *expon* (exponencial)."
      ]
    },
    {
      "cell_type": "code",
      "execution_count": null,
      "metadata": {
        "id": "-vyv0cvAZp4O",
        "colab": {
          "base_uri": "https://localhost:8080/"
        },
        "outputId": "3e33f39f-ee87-4dbd-9de6-6f56ad7b1f3d"
      },
      "outputs": [
        {
          "output_type": "stream",
          "name": "stdout",
          "text": [
            "Fitting 3 folds for each of 20 candidates, totalling 60 fits\n"
          ]
        },
        {
          "output_type": "execute_result",
          "data": {
            "text/plain": [
              "RandomizedSearchCV(cv=KFold(n_splits=3, random_state=42, shuffle=True),\n",
              "                   estimator=DecisionTreeRegressor(), n_iter=20, n_jobs=1,\n",
              "                   param_distributions={'max_depth': <scipy.stats._distn_infrastructure.rv_frozen object at 0x7ff986189e50>,\n",
              "                                        'min_samples_split': <scipy.stats._distn_infrastructure.rv_frozen object at 0x7ff986189550>},\n",
              "                   scoring='neg_mean_squared_error', verbose=1)"
            ]
          },
          "metadata": {},
          "execution_count": 12
        }
      ],
      "source": [
        "from sklearn.model_selection import RandomizedSearchCV, KFold\n",
        "from sklearn import metrics\n",
        "\n",
        "\n",
        "from scipy.stats import uniform, expon\n",
        "from scipy.stats import randint as sp_randint\n",
        "\n",
        "#de 2 a 16 dame un valor uniformemente aleatorio\n",
        "# Search space with integer uniform distributions\n",
        "param_grid = {'max_depth': sp_randint(2,16),\n",
        "              'min_samples_split': sp_randint(2,16)}\n",
        "\n",
        "inner = KFold(n_splits=3, shuffle=True, random_state=42)\n",
        "\n",
        "budget = 20\n",
        "regr = RandomizedSearchCV(DecisionTreeRegressor(), \n",
        "                         param_grid,\n",
        "                         scoring='neg_mean_squared_error',\n",
        "                         cv=inner, \n",
        "                         n_jobs=1, verbose=1,\n",
        "                         n_iter=budget\n",
        "                        )\n",
        "\n",
        "np.random.seed(42)\n",
        "regr.fit(X=X_train, y=y_train)\n",
        "\n",
        "# At this point, regr contains the model with the best hyper-parameters found by gridsearch\n",
        "# and trained on the complete X_train"
      ]
    },
    {
      "cell_type": "code",
      "execution_count": null,
      "metadata": {
        "id": "CRppQBOiA9fI",
        "colab": {
          "base_uri": "https://localhost:8080/"
        },
        "outputId": "7d6200ae-2629-47f1-ba8a-6bfc393d182f"
      },
      "outputs": [
        {
          "output_type": "stream",
          "name": "stdout",
          "text": [
            "RMSE of tree with hyper-parameter tuning (random search II): 3.879204914028741\n"
          ]
        }
      ],
      "source": [
        "# Now, the performance of regr is computed on the test partition\n",
        "#se ha bajado un poco el error\n",
        "print(f\"RMSE of tree with hyper-parameter tuning (random search II): {rmse(y_test, regr.predict(X=X_test))}\")"
      ]
    },
    {
      "cell_type": "code",
      "execution_count": null,
      "metadata": {
        "id": "qhMPDyL8Zp4Q",
        "colab": {
          "base_uri": "https://localhost:8080/"
        },
        "outputId": "b9d0167d-a733-40ab-eb4b-52febeb57390"
      },
      "outputs": [
        {
          "output_type": "execute_result",
          "data": {
            "text/plain": [
              "({'max_depth': 14, 'min_samples_split': 12}, 23.466854735241096)"
            ]
          },
          "metadata": {},
          "execution_count": 14
        }
      ],
      "source": [
        "regr.best_params_, -regr.best_score_"
      ]
    },
    {
      "cell_type": "markdown",
      "metadata": {
        "id": "je3hVWP9Zp4S"
      },
      "source": [
        "¿Y si quisiéramos hacer **evaluación de modelos con 5-fold crossvalidation** y **ajuste de hiperparámetros con 3-fold crossvalidation**? Esto se denomina validación cruzada anidada https://scikit-learn.org/stable/auto_examples/model_selection/plot_nested_cross_validation_iris.html). Hay un bucle externo (para evaluar los modelos) y un bucle interno (para ajustar los hiperparámetros)"
      ]
    },
    {
      "cell_type": "code",
      "execution_count": null,
      "metadata": {
        "id": "rkJD1ifoZp4S",
        "colab": {
          "base_uri": "https://localhost:8080/"
        },
        "outputId": "476a8d1c-e5a5-4741-8263-d8bf2e2264bd"
      },
      "outputs": [
        {
          "output_type": "stream",
          "name": "stdout",
          "text": [
            "Fitting 3 folds for each of 20 candidates, totalling 60 fits\n",
            "Fitting 3 folds for each of 20 candidates, totalling 60 fits\n",
            "Fitting 3 folds for each of 20 candidates, totalling 60 fits\n",
            "Fitting 3 folds for each of 20 candidates, totalling 60 fits\n",
            "Fitting 3 folds for each of 20 candidates, totalling 60 fits\n"
          ]
        }
      ],
      "source": [
        "#\n",
        "\n",
        "from sklearn.model_selection import RandomizedSearchCV, cross_val_score\n",
        "from sklearn import metrics\n",
        "\n",
        "# random_state=42 for reproducibility\n",
        "# Evaluation of model (outer loop)\n",
        "outer = KFold(n_splits=5, shuffle=True, random_state=42)\n",
        "\n",
        "\n",
        "from scipy.stats import uniform, expon\n",
        "\n",
        "# Search space\n",
        "param_grid = {'max_depth': list(range(2,16,2)),\n",
        "              'min_samples_split': list(range(2,16,2))}\n",
        "\n",
        "inner = KFold(n_splits=3, shuffle=True, random_state=42)\n",
        "\n",
        "budget = 20\n",
        "# This is the internal 3-fold crossvalidation for hyper-parameter tuning\n",
        "regr = RandomizedSearchCV(DecisionTreeRegressor(), \n",
        "                         param_grid,\n",
        "                         scoring='neg_mean_squared_error',\n",
        "                         # 3-fold for hyper-parameter tuning\n",
        "                         cv=inner, \n",
        "                         n_jobs=1, verbose=1,\n",
        "                         n_iter=budget\n",
        "                        )\n",
        "\n",
        "# This is the external 5-fold crossvalidation for model evaluation\n",
        "# Notice that regr is the model resulting of hyper-parameter tuning\n",
        "np.random.seed(42)\n",
        "\n",
        "# For sklearn, higher scores are better. Given that MSE is an error (smaller is better), the corresponding score is -MSE\n",
        "scores = -cross_val_score(regr, \n",
        "                            X, y, \n",
        "                            scoring='neg_mean_squared_error', \n",
        "                            cv = outer)"
      ]
    },
    {
      "cell_type": "code",
      "execution_count": null,
      "metadata": {
        "id": "VxeEDgv1Zp4U",
        "colab": {
          "base_uri": "https://localhost:8080/"
        },
        "outputId": "bc41e81a-adad-4ec6-ed5e-88a8d8a12764"
      },
      "outputs": [
        {
          "output_type": "stream",
          "name": "stdout",
          "text": [
            "[ 8.57097787 13.91342812 39.52647818 20.14700622 21.3531072 ]\n",
            "4.410837324219566 +- 1.1165633060314761\n"
          ]
        }
      ],
      "source": [
        "print(scores)\n",
        "# The score was MSE, we want RMSE\n",
        "scores = np.sqrt(scores)\n",
        "# The mean of the 5-fold crossvalidation is the final score of the model\n",
        "print(f\"{scores.mean()} +- {scores.std()}\")"
      ]
    },
    {
      "cell_type": "markdown",
      "metadata": {
        "id": "LdfqhEw9Zp4W"
      },
      "source": [
        "#### OBTENCIÓN DEL MODELO FINAL (PARA SU DESPLIEGUE, O PARA ENVIARLO A UN CONCURSO, ...)"
      ]
    },
    {
      "cell_type": "markdown",
      "metadata": {
        "id": "O5w47vRHZp4X"
      },
      "source": [
        "Si necesitamos un modelo final, podemos obtenerlo ajustando regr a todos los datos disponibles. Recordemos que regr hace ajuste de hiper-parámetros."
      ]
    },
    {
      "cell_type": "code",
      "execution_count": null,
      "metadata": {
        "id": "0Kvg0RX-Zp4X",
        "colab": {
          "base_uri": "https://localhost:8080/"
        },
        "outputId": "d200eb4d-65a8-4347-e89f-a56c6c6448c5"
      },
      "outputs": [
        {
          "output_type": "stream",
          "name": "stdout",
          "text": [
            "Fitting 3 folds for each of 20 candidates, totalling 60 fits\n"
          ]
        }
      ],
      "source": [
        "np.random.seed(42)\n",
        "\n",
        "# Fitting again the randomized search HPO\n",
        "regrFinal = regr.fit(X,y)"
      ]
    },
    {
      "cell_type": "code",
      "execution_count": null,
      "metadata": {
        "id": "GRfsLFLTZp4Z",
        "colab": {
          "base_uri": "https://localhost:8080/"
        },
        "outputId": "58c27c59-dfd1-4e3d-99ce-8645df5915f0"
      },
      "outputs": [
        {
          "output_type": "execute_result",
          "data": {
            "text/plain": [
              "({'min_samples_split': 8, 'max_depth': 6}, 19.699003696570447)"
            ]
          },
          "metadata": {},
          "execution_count": 18
        }
      ],
      "source": [
        "regr.best_params_, -regr.best_score_"
      ]
    },
    {
      "cell_type": "markdown",
      "metadata": {
        "id": "2XeQqmjrZp4e"
      },
      "source": [
        "### OPTIMIZACIÓN BASADA EN MODELOS (BAYESIAN OPTIMIZATION)"
      ]
    },
    {
      "cell_type": "markdown",
      "metadata": {
        "id": "YNwHbEIsZp4f"
      },
      "source": [
        "Para ello se utilizará scikit-optimize (skopt): https://scikit-optimize.github.io. **Holdout** para la evaluación del modelo y **3-fold crossvalidation** para el ajuste de hiperparámetros (con **Model Based Optimization** )."
      ]
    },
    {
      "cell_type": "code",
      "execution_count": null,
      "metadata": {
        "id": "45cWJKARCT2Y",
        "colab": {
          "base_uri": "https://localhost:8080/"
        },
        "outputId": "d924bea3-853b-4fb3-f33f-d72a8aebde57"
      },
      "outputs": [
        {
          "output_type": "stream",
          "name": "stdout",
          "text": [
            "Looking in indexes: https://pypi.org/simple, https://us-python.pkg.dev/colab-wheels/public/simple/\n",
            "Collecting git+https://github.com/scikit-optimize/scikit-optimize.git\n",
            "  Cloning https://github.com/scikit-optimize/scikit-optimize.git to /tmp/pip-req-build-o9nulyyf\n",
            "  Running command git clone --filter=blob:none --quiet https://github.com/scikit-optimize/scikit-optimize.git /tmp/pip-req-build-o9nulyyf\n",
            "  Resolved https://github.com/scikit-optimize/scikit-optimize.git to commit a2369ddbc332d16d8ff173b12404b03fea472492\n",
            "  Installing build dependencies ... \u001b[?25l\u001b[?25hdone\n",
            "  Getting requirements to build wheel ... \u001b[?25l\u001b[?25hdone\n",
            "  Preparing metadata (pyproject.toml) ... \u001b[?25l\u001b[?25hdone\n",
            "Requirement already satisfied: scikit-learn>=0.20.0 in /usr/local/lib/python3.8/dist-packages (from scikit-optimize==0.9.0) (1.0.2)\n",
            "Requirement already satisfied: joblib>=0.11 in /usr/local/lib/python3.8/dist-packages (from scikit-optimize==0.9.0) (1.2.0)\n",
            "Collecting pyaml>=16.9\n",
            "  Using cached pyaml-21.10.1-py2.py3-none-any.whl (24 kB)\n",
            "Requirement already satisfied: scipy>=0.19.1 in /usr/local/lib/python3.8/dist-packages (from scikit-optimize==0.9.0) (1.7.3)\n",
            "Requirement already satisfied: numpy>=1.13.3 in /usr/local/lib/python3.8/dist-packages (from scikit-optimize==0.9.0) (1.22.4)\n",
            "Requirement already satisfied: PyYAML in /usr/local/lib/python3.8/dist-packages (from pyaml>=16.9->scikit-optimize==0.9.0) (6.0)\n",
            "Requirement already satisfied: threadpoolctl>=2.0.0 in /usr/local/lib/python3.8/dist-packages (from scikit-learn>=0.20.0->scikit-optimize==0.9.0) (3.1.0)\n",
            "Building wheels for collected packages: scikit-optimize\n",
            "  Building wheel for scikit-optimize (pyproject.toml) ... \u001b[?25l\u001b[?25hdone\n",
            "  Created wheel for scikit-optimize: filename=scikit_optimize-0.9.0-py2.py3-none-any.whl size=100268 sha256=cc56418f9d1f437412e8293904fd6579619e9a6a5e5d1f68940ea0ac387e67c6\n",
            "  Stored in directory: /tmp/pip-ephem-wheel-cache-ek92z3rx/wheels/40/48/e7/8f8bf2b4c2c847051cfaac9d3603002e5109468805dcc72b3a\n",
            "Successfully built scikit-optimize\n",
            "Installing collected packages: pyaml, scikit-optimize\n",
            "Successfully installed pyaml-21.10.1 scikit-optimize-0.9.0\n"
          ]
        }
      ],
      "source": [
        "# !pip install scikit-learn==0.24.2\n",
        "# !pip install scikit-optimize\n",
        "!pip install git+https://github.com/scikit-optimize/scikit-optimize.git"
      ]
    },
    {
      "cell_type": "code",
      "execution_count": null,
      "metadata": {
        "id": "DkKc_paMZ-Oh",
        "colab": {
          "base_uri": "https://localhost:8080/"
        },
        "outputId": "d909a14b-433d-4b02-a46f-5e4363758831"
      },
      "outputs": [
        {
          "output_type": "stream",
          "name": "stdout",
          "text": [
            "0.9.0\n",
            "1.0.2\n"
          ]
        }
      ],
      "source": [
        "# Checking that everything is correct with skopt (0.9.dev0) and sklearn \n",
        "from skopt import __version__\n",
        "print(__version__)\n",
        "from sklearn import __version__\n",
        "print(__version__)"
      ]
    },
    {
      "cell_type": "code",
      "execution_count": null,
      "metadata": {
        "id": "qmxEk_w4cEb7",
        "colab": {
          "base_uri": "https://localhost:8080/"
        },
        "outputId": "6c5141a9-43f6-4edc-9ab4-9b128f2a638d"
      },
      "outputs": [
        {
          "output_type": "stream",
          "name": "stdout",
          "text": [
            "Fitting 3 folds for each of 1 candidates, totalling 3 fits\n",
            "Fitting 3 folds for each of 1 candidates, totalling 3 fits\n",
            "Fitting 3 folds for each of 1 candidates, totalling 3 fits\n",
            "Fitting 3 folds for each of 1 candidates, totalling 3 fits\n",
            "Fitting 3 folds for each of 1 candidates, totalling 3 fits\n",
            "Fitting 3 folds for each of 1 candidates, totalling 3 fits\n",
            "Fitting 3 folds for each of 1 candidates, totalling 3 fits\n",
            "Fitting 3 folds for each of 1 candidates, totalling 3 fits\n",
            "Fitting 3 folds for each of 1 candidates, totalling 3 fits\n",
            "Fitting 3 folds for each of 1 candidates, totalling 3 fits\n",
            "Fitting 3 folds for each of 1 candidates, totalling 3 fits\n"
          ]
        },
        {
          "output_type": "stream",
          "name": "stderr",
          "text": [
            "/usr/local/lib/python3.8/dist-packages/skopt/optimizer/optimizer.py:449: UserWarning: The objective has been evaluated at this point before.\n",
            "  warnings.warn(\"The objective has been evaluated \"\n"
          ]
        },
        {
          "output_type": "stream",
          "name": "stdout",
          "text": [
            "Fitting 3 folds for each of 1 candidates, totalling 3 fits\n"
          ]
        },
        {
          "output_type": "stream",
          "name": "stderr",
          "text": [
            "/usr/local/lib/python3.8/dist-packages/skopt/optimizer/optimizer.py:449: UserWarning: The objective has been evaluated at this point before.\n",
            "  warnings.warn(\"The objective has been evaluated \"\n"
          ]
        },
        {
          "output_type": "stream",
          "name": "stdout",
          "text": [
            "Fitting 3 folds for each of 1 candidates, totalling 3 fits\n"
          ]
        },
        {
          "output_type": "stream",
          "name": "stderr",
          "text": [
            "/usr/local/lib/python3.8/dist-packages/skopt/optimizer/optimizer.py:449: UserWarning: The objective has been evaluated at this point before.\n",
            "  warnings.warn(\"The objective has been evaluated \"\n"
          ]
        },
        {
          "output_type": "stream",
          "name": "stdout",
          "text": [
            "Fitting 3 folds for each of 1 candidates, totalling 3 fits\n",
            "Fitting 3 folds for each of 1 candidates, totalling 3 fits\n"
          ]
        },
        {
          "output_type": "stream",
          "name": "stderr",
          "text": [
            "/usr/local/lib/python3.8/dist-packages/skopt/optimizer/optimizer.py:449: UserWarning: The objective has been evaluated at this point before.\n",
            "  warnings.warn(\"The objective has been evaluated \"\n"
          ]
        },
        {
          "output_type": "stream",
          "name": "stdout",
          "text": [
            "Fitting 3 folds for each of 1 candidates, totalling 3 fits\n",
            "Fitting 3 folds for each of 1 candidates, totalling 3 fits\n",
            "Fitting 3 folds for each of 1 candidates, totalling 3 fits\n",
            "Fitting 3 folds for each of 1 candidates, totalling 3 fits\n",
            "Fitting 3 folds for each of 1 candidates, totalling 3 fits\n"
          ]
        },
        {
          "output_type": "execute_result",
          "data": {
            "text/plain": [
              "BayesSearchCV(cv=KFold(n_splits=3, random_state=42, shuffle=True),\n",
              "              estimator=DecisionTreeRegressor(), n_iter=20,\n",
              "              scoring='neg_mean_squared_error',\n",
              "              search_spaces={'max_depth': Integer(low=2, high=16, prior='uniform', transform='normalize'),\n",
              "                             'min_samples_split': Integer(low=2, high=16, prior='uniform', transform='normalize')},\n",
              "              verbose=1)"
            ]
          },
          "metadata": {},
          "execution_count": 21
        }
      ],
      "source": [
        "from skopt import BayesSearchCV\n",
        "from skopt.space import Integer, Real, Categorical\n",
        "from sklearn import metrics\n",
        "from skopt.plots import plot_objective, plot_histogram, plot_convergence\n",
        "from sklearn.model_selection import KFold\n",
        "\n",
        "# Search space with integer uniform distributions\n",
        "param_grid = {'max_depth': Integer(2,16),\n",
        "              'min_samples_split': Integer(2,16)}\n",
        "\n",
        "inner = KFold(n_splits=3, shuffle=True, random_state=42)\n",
        "budget = 20\n",
        "regr = BayesSearchCV(DecisionTreeRegressor(), \n",
        "                    param_grid,\n",
        "                    scoring='neg_mean_squared_error',\n",
        "                    cv=inner,    \n",
        "                    n_jobs=1, verbose=1,\n",
        "                    n_iter=budget\n",
        "                    )\n",
        "np.random.seed(42)\n",
        "regr.fit(X=X_train, y=y_train)\n",
        "\n",
        "# At this point, regr contains the model with the best hyper-parameters found by bayessearch\n",
        "# and trained on the complete X_train"
      ]
    },
    {
      "cell_type": "code",
      "execution_count": null,
      "metadata": {
        "id": "ZIqeUTQ6Zp4k",
        "colab": {
          "base_uri": "https://localhost:8080/"
        },
        "outputId": "813d2103-de6e-4771-996a-f85894a12602"
      },
      "outputs": [
        {
          "output_type": "stream",
          "name": "stdout",
          "text": [
            "RMSE of tree with hyper-parameter tuning (bayesian optimization): 3.9557488945335764\n"
          ]
        }
      ],
      "source": [
        "# Now, the performance of regr is computed on the test partition\n",
        "\n",
        "print(f\"RMSE of tree with hyper-parameter tuning (bayesian optimization): {rmse(y_test, regr.predict(X=X_test))}\")"
      ]
    },
    {
      "cell_type": "code",
      "execution_count": null,
      "metadata": {
        "id": "RlZ321QBZp4l",
        "colab": {
          "base_uri": "https://localhost:8080/"
        },
        "outputId": "94399781-b556-4dbb-f8be-57a5be5bd5a8"
      },
      "outputs": [
        {
          "output_type": "execute_result",
          "data": {
            "text/plain": [
              "(OrderedDict([('max_depth', 14), ('min_samples_split', 11)]),\n",
              " 23.470621822368187)"
            ]
          },
          "metadata": {},
          "execution_count": 23
        }
      ],
      "source": [
        "regr.best_params_, -regr.best_score_"
      ]
    },
    {
      "cell_type": "markdown",
      "metadata": {
        "id": "2YSNFqSaF6Qx"
      },
      "source": [
        "Podemos comprobar si la optimización ha convergido"
      ]
    },
    {
      "cell_type": "code",
      "execution_count": null,
      "metadata": {
        "id": "FjW8T92qFu7f",
        "colab": {
          "base_uri": "https://localhost:8080/",
          "height": 297
        },
        "outputId": "a9a35edd-1775-45b4-de29-54560296d093"
      },
      "outputs": [
        {
          "output_type": "display_data",
          "data": {
            "text/plain": [
              "<Figure size 432x288 with 1 Axes>"
            ],
            "image/png": "[encoded data removed]"
          },
          "metadata": {
            "needs_background": "light"
          }
        }
      ],
      "source": [
        "_ = plot_convergence(regr.optimizer_results_[0])\n",
        "plt.show()"
      ]
    },
    {
      "cell_type": "code",
      "execution_count": null,
      "metadata": {
        "id": "6yEHkN0ECMJ-",
        "colab": {
          "base_uri": "https://localhost:8080/",
          "height": 364
        },
        "outputId": "66a39410-bbb3-4e1b-d34c-37eb26b4a82b"
      },
      "outputs": [
        {
          "output_type": "display_data",
          "data": {
            "text/plain": [
              "<Figure size 288x288 with 4 Axes>"
            ],
            "image/png": "[encoded data removed]"
          },
          "metadata": {
            "needs_background": "light"
          }
        }
      ],
      "source": [
        "_ = plot_objective(regr.optimizer_results_[0],\n",
        "                   dimensions=['max_depth', 'min_samples_split'],\n",
        "                   n_minimum_search=int(1e8))\n",
        "plt.show()"
      ]
    }
  ],
  "metadata": {
    "colab": {
      "provenance": [],
      "include_colab_link": true
    },
    "kernelspec": {
      "display_name": "Python 3 (ipykernel)",
      "language": "python",
      "name": "python3"
    },
    "language_info": {
      "codemirror_mode": {
        "name": "ipython",
        "version": 3
      },
      "file_extension": ".py",
      "mimetype": "text/x-python",
      "name": "python",
      "nbconvert_exporter": "python",
      "pygments_lexer": "ipython3",
      "version": "3.10.5"
    }
  },
  "nbformat": 4,
  "nbformat_minor": 0
}